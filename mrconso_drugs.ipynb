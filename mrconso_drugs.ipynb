{
 "cells": [
  {
   "cell_type": "code",
   "execution_count": 3,
   "metadata": {},
   "outputs": [],
   "source": [
    "# Author: Demetreous Stillman"
   ]
  },
  {
   "cell_type": "code",
   "execution_count": 4,
   "metadata": {},
   "outputs": [],
   "source": [
    "# Libraries\n",
    "import pandas as pd\n",
    "import csv"
   ]
  },
  {
   "cell_type": "code",
   "execution_count": 5,
   "metadata": {},
   "outputs": [
    {
     "name": "stdout",
     "output_type": "stream",
     "text": [
      "        CUI  LAT TS       LUI STT       SUI ISPREF        AUI  SAUI      SCUI  \\\n",
      "0  C0000005  ENG  P  L0000005  PF  S0007492      Y  A26634265   NaN  M0019694   \n",
      "1  C0000005  ENG  S  L0270109  PF  S0007491      Y  A26634266   NaN  M0019694   \n",
      "2  C0000005  FRE  P  L6220710  PF  S7133957      Y  A13433185   NaN  M0019694   \n",
      "3  C0000005  FRE  S  L6215648  PF  S7133916      Y  A27488794   NaN  M0019694   \n",
      "4  C0000005  FRE  S  L6215656  PF  S7133956      Y  A27614225   NaN  M0019694   \n",
      "\n",
      "      SDUI     SAB  TTY     CODE  \\\n",
      "0  D012711     MSH  PEP  D012711   \n",
      "1  D012711     MSH   ET  D012711   \n",
      "2  D012711  MSHFRE  PEP  D012711   \n",
      "3  D012711  MSHFRE   ET  D012711   \n",
      "4  D012711  MSHFRE   ET  D012711   \n",
      "\n",
      "                                                 STR  SRL SUPPRESS    CVF  \n",
      "0                     (131)I-Macroaggregated Albumin    0        N  256.0  \n",
      "1                                         (131)I-MAA    0        N  256.0  \n",
      "2      Macroagrégats d'albumine marquée à l'iode 131    3        N    NaN  \n",
      "3                                          MAA-I 131    3        N    NaN  \n",
      "4  Macroagrégats d'albumine humaine marquée à l'i...    3        N    NaN  \n"
     ]
    }
   ],
   "source": [
    "# Imports MRCONSO Table and adds column names\n",
    "file_path = \"/Users/demetreousstillman/Desktop/UCR_Project/Douglas Stuff/umls_tables/MRCONSO.RRF\" # You'll need to chnage your file path\n",
    "column_names = ['CUI', 'LAT', 'TS', 'LUI', 'STT', 'SUI', 'ISPREF', 'AUI', 'SAUI', 'SCUI', 'SDUI', 'SAB', 'TTY', 'CODE', 'STR', 'SRL', 'SUPPRESS', 'CVF']\n",
    "rrf_data = pd.read_csv(file_path, header = None, sep = '|', low_memory = False, names = column_names, index_col = False)\n",
    "print(rrf_data.head())"
   ]
  },
  {
   "cell_type": "code",
   "execution_count": 6,
   "metadata": {},
   "outputs": [
    {
     "name": "stdout",
     "output_type": "stream",
     "text": [
      "Unique SAB values: ['MSH' 'MSHFRE' 'MSHSWE' 'MSHCZE' 'RXNORM' 'MTH' 'SNMI' 'LNC'\n",
      " 'SNOMEDCT_US' 'MSHFIN' 'MSHGER' 'MSHITA' 'MSHJPN' 'MSHPOL' 'MSHPOR'\n",
      " 'MSHRUS' 'SCTSPA' 'MSHSPA' 'SNM' 'CSP' 'PSY' 'CHV' 'RCD' 'LCH_NW'\n",
      " 'MSHSCR' 'MSHNOR' 'AOD' 'NCI' 'NCI_FDA' 'NCI_CTRP' 'PDQ' 'CPM' 'GO' 'LCH'\n",
      " 'MMSL' 'MEDCIN' 'MTHSPL' 'NDDF' 'ATC' 'NCI_NCI-GLOSS' 'NCI_DTP' 'USPMG'\n",
      " 'USP' 'GS' 'VANDF' 'NCI_DCP' 'NCI_caDSR' 'DRUGBANK' 'MEDLINEPLUS'\n",
      " 'NCI_CRCH' 'MSHDUT' 'MSHLAV' 'NCI_CDISC-GLOSS' 'NCI_CareLex' 'CST' 'UWDA'\n",
      " 'FMA' 'HL7V2.5' 'OMIM' 'MDRCZE' 'ICD10DUT' 'ICPC2ICD10DUT' 'MDRDUT'\n",
      " 'ICPC2ICD10ENG' 'ICD10' 'ICD10AM' 'MDR' 'RCDSY' 'ICD10CM' 'HPO' 'WHO'\n",
      " 'CCPSS' 'MDRFRE' 'WHOFRE' 'DMDICD10' 'MDRGER' 'MDRHUN' 'MDRITA' 'MDRJPN'\n",
      " 'KCD5' 'MDRKOR' 'WHOPOR' 'MDRBPO' 'MDRPOR' 'MDRRUS' 'MDRSPA' 'COSTAR'\n",
      " 'NOC' 'MTHICD9' 'ICPC2P' 'NANDA-I' 'DXP' 'WHOGER' 'WHOSPA' 'ICPCBAQ'\n",
      " 'ICPCDAN' 'ICPCDUT' 'ICPC2EDUT' 'SNOMEDCT_VET' 'NCI_NICHD' 'NCI_CTCAE'\n",
      " 'ICPC2EENG' 'ICPC' 'QMR' 'ICPCFIN' 'ICPCFRE' 'ICPCGER' 'ICPCHUN'\n",
      " 'ICPCITA' 'ICPCNOR' 'ICPCPOR' 'ICPCSPA' 'ICPCSWE' 'RCDAE' 'CCS'\n",
      " 'NCI_ACC-AHA' 'ICNP' 'ICD9CM' 'BI' 'MEDLINEPLUS_SPA' 'NCI_CDISC' 'NEU'\n",
      " 'NCBI' 'NCI_CELLOSAURUS' 'ICPCHEB' 'NCI_GAIA' 'NCI_GDC' 'PCDS' 'MED-RT'\n",
      " 'HL7V3.0' 'UMD' 'NCI_PCDC' 'NCI_CBDD' 'RAM' 'SPN' 'AIR' 'CCC' 'ICD10AMAE'\n",
      " 'ICD10AE' 'MTHMST' 'MTHMSTFRE' 'MTHMSTITA' 'NCI_CTEP-SDC' 'DMDUMD'\n",
      " 'DSM-5' 'NIC' 'ALT' 'NCI_EDQM-HC' 'RCDSA' 'ICF' 'ICF-CY' 'NCI_CTDC'\n",
      " 'CCSR_ICD10PCS' 'NCI_GENC' 'NCI_BRIDG_3_0_3' 'NCI_BRIDG_5_3' 'NCI_INC'\n",
      " 'OMS' 'CPT' 'JABL' 'NUCCHCPT' 'NCI_CDC' 'CDCREC' 'HCPT' 'CPTSP'\n",
      " 'CCSR_ICD10CM' 'MTHICPC2EAE' 'CDT' 'HCPCS' 'PNDS' 'TKMT' 'NCI_CCPS' 'CVX'\n",
      " 'NCI_ICDC' 'ICD10PCS' 'NCI_NCPDP' 'NCI_DICOM' 'MMX' 'MCM' 'NCI_KEGG'\n",
      " 'NCI_UCUM' 'MTHICPC2ICD10AE' 'HGNC' 'NCI_BioC' 'LNC-ZH-CN' 'LNC-NL-NL'\n",
      " 'LNC-IT-IT' 'LNC-PT-BR' 'LNC-ES-AR' 'LNC-ES-MX' 'HCDT' 'MTHCMSFRF' 'AOT'\n",
      " 'ULT' 'NCI_NCI-HGNC' 'SOP' 'NCI_NCI-HL7' 'NCI_JAX' 'DDB' 'SRC'\n",
      " 'NCI_PI-RADS' 'PPAC' 'MVX' 'LNC-ET-EE' 'LNC-FR-CA' 'LNC-FR-BE'\n",
      " 'LNC-FR-FR' 'LNC-RU-RU' 'LNC-ES-ES' 'LNC-TR-TR' 'NCI_ICH' 'LNC-DE-AT'\n",
      " 'LNC-KO-KR' 'LNC-DE-DE' 'LNC-PL-PL' 'LNC-EL-GR' 'NCI_CTCAE_3' 'NCI_PID'\n",
      " 'NCI_CTCAE_5' 'NCI_BRIDG' 'NCI_RENI' 'NCI_ZFin']\n"
     ]
    }
   ],
   "source": [
    "# Print unique values in the 'SAB' column to check available source abbreviations\n",
    "print(\"Unique SAB values:\", rrf_data['SAB'].unique())\n",
    "#print(\"Data type of the column:\", rrf_data['STR'].dtype)"
   ]
  },
  {
   "cell_type": "code",
   "execution_count": 7,
   "metadata": {},
   "outputs": [
    {
     "name": "stdout",
     "output_type": "stream",
     "text": [
      "        CUI  LAT TS       LUI STT        SUI ISPREF        AUI        SAUI  \\\n",
      "0  C0000039  ENG  P  L0000039  PF  S17175117      N  A28315139   9194921.0   \n",
      "1  C0000266  ENG  P  L0030574  PF   S0071080      Y  A10336090       829.0   \n",
      "2  C0000294  ENG  P  L0025479  PF   S0525354      N  A31762929  12251526.0   \n",
      "3  C0000378  ENG  P  L0565039  PF  S14426412      N  A31685600  12254325.0   \n",
      "4  C0000392  ENG  P  L0005188  PF  S11855837      N  A31642632  12254378.0   \n",
      "\n",
      "      SCUI SDUI     SAB TTY     CODE                                 STR  SRL  \\\n",
      "0  1926948  NaN  RXNORM  IN  1926948  1,2-dipalmitoylphosphatidylcholine    0   \n",
      "1       38  NaN  RXNORM  BN       38                            Parlodel    0   \n",
      "2       44  NaN  RXNORM  IN       44                               mesna    0   \n",
      "3  1489913  NaN  RXNORM  IN  1489913                           droxidopa    0   \n",
      "4       61  NaN  RXNORM  IN       61                        beta-alanine    0   \n",
      "\n",
      "  SUPPRESS     CVF  \n",
      "0        N   256.0  \n",
      "1        N  4352.0  \n",
      "2        N  4352.0  \n",
      "3        N  4352.0  \n",
      "4        N  4352.0  \n"
     ]
    }
   ],
   "source": [
    "# Filter rows where SAB indicates disease-related entries\n",
    "drug_sources = ['RXNORM']\n",
    "drug_df = rrf_data[rrf_data['SAB'].isin(drug_sources)]\n",
    "drug_df.reset_index(drop=True, inplace=True)\n",
    "print(drug_df.head())"
   ]
  },
  {
   "cell_type": "code",
   "execution_count": 9,
   "metadata": {},
   "outputs": [
    {
     "name": "stdout",
     "output_type": "stream",
     "text": [
      "                                DRUGS\n",
      "0  1,2-dipalmitoylphosphatidylcholine\n",
      "1                            Parlodel\n",
      "2                               mesna\n",
      "3                           droxidopa\n",
      "4                        beta-alanine\n"
     ]
    }
   ],
   "source": [
    "columns_to_keep = ['STR']\n",
    "drug_df = drug_df[columns_to_keep]\n",
    "\n",
    "# Keep only unique values in the 'STR' column\n",
    "unique_values = drug_df['STR'].unique()\n",
    "\n",
    "# Create a new dataframe with the unique values\n",
    "unique_df = pd.DataFrame({'DRUGS': unique_values})\n",
    "\n",
    "\n",
    "print(unique_df.head())"
   ]
  },
  {
   "cell_type": "code",
   "execution_count": 10,
   "metadata": {},
   "outputs": [],
   "source": [
    "#turn df into dict\n",
    "drug_dict = unique_df['DRUGS'].to_dict()\n",
    "\n",
    "#print(disease_dict)"
   ]
  },
  {
   "cell_type": "code",
   "execution_count": 11,
   "metadata": {},
   "outputs": [
    {
     "name": "stdout",
     "output_type": "stream",
     "text": [
      "Element at indx 0: 1,2-dipalmitoylphosphatidylcholine \n",
      "Element at indx 1: Parlodel \n",
      "Element at indx 2: mesna \n",
      "Element at indx 3: droxidopa \n",
      "Element at indx 4: beta-alanine \n",
      "Element at indx 5: docosahexaenoate \n",
      "Element at indx 6: 4-aminobenzoic acid \n",
      "Element at indx 7: aminobenzoic acid \n",
      "Element at indx 8: dalfampridine \n",
      "Element at indx 9: fampridine \n"
     ]
    }
   ],
   "source": [
    "# Prints first 10 elements\n",
    "for index, value in drug_dict.items():\n",
    "    print(f\"Element at indx {index}: {value} \")\n",
    "\n",
    "    if index >= 9:\n",
    "        break"
   ]
  },
  {
   "cell_type": "code",
   "execution_count": 14,
   "metadata": {},
   "outputs": [],
   "source": [
    "#Function to get disease name by index\n",
    "def get_drug_name(index):\n",
    "    return drug_dict[index]"
   ]
  },
  {
   "cell_type": "code",
   "execution_count": 15,
   "metadata": {},
   "outputs": [
    {
     "data": {
      "text/plain": [
       "'chymopapain'"
      ]
     },
     "execution_count": 15,
     "metadata": {},
     "output_type": "execute_result"
    }
   ],
   "source": [
    "get_drug_name(500)"
   ]
  }
 ],
 "metadata": {
  "kernelspec": {
   "display_name": "Python 3",
   "language": "python",
   "name": "python3"
  },
  "language_info": {
   "codemirror_mode": {
    "name": "ipython",
    "version": 3
   },
   "file_extension": ".py",
   "mimetype": "text/x-python",
   "name": "python",
   "nbconvert_exporter": "python",
   "pygments_lexer": "ipython3",
   "version": "3.11.1"
  },
  "orig_nbformat": 4
 },
 "nbformat": 4,
 "nbformat_minor": 2
}
