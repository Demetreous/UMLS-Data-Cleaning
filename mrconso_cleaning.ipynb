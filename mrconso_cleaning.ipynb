{
 "cells": [
  {
   "cell_type": "code",
   "execution_count": 1,
   "metadata": {},
   "outputs": [],
   "source": [
    "# Author: Demetreous Stillman, Zergio Rubvalcaba"
   ]
  },
  {
   "cell_type": "code",
   "execution_count": 2,
   "metadata": {},
   "outputs": [],
   "source": [
    "# Libraries\n",
    "import pandas as pd\n",
    "import csv"
   ]
  },
  {
   "cell_type": "code",
   "execution_count": 3,
   "metadata": {},
   "outputs": [
    {
     "name": "stdout",
     "output_type": "stream",
     "text": [
      "        CUI  LAT TS       LUI STT       SUI ISPREF        AUI  SAUI      SCUI  \\\n",
      "0  C0000005  ENG  P  L0000005  PF  S0007492      Y  A26634265   NaN  M0019694   \n",
      "1  C0000005  ENG  S  L0270109  PF  S0007491      Y  A26634266   NaN  M0019694   \n",
      "2  C0000005  FRE  P  L6220710  PF  S7133957      Y  A13433185   NaN  M0019694   \n",
      "3  C0000005  FRE  S  L6215648  PF  S7133916      Y  A27488794   NaN  M0019694   \n",
      "4  C0000005  FRE  S  L6215656  PF  S7133956      Y  A27614225   NaN  M0019694   \n",
      "\n",
      "      SDUI     SAB  TTY     CODE  \\\n",
      "0  D012711     MSH  PEP  D012711   \n",
      "1  D012711     MSH   ET  D012711   \n",
      "2  D012711  MSHFRE  PEP  D012711   \n",
      "3  D012711  MSHFRE   ET  D012711   \n",
      "4  D012711  MSHFRE   ET  D012711   \n",
      "\n",
      "                                                 STR  SRL SUPPRESS    CVF  \n",
      "0                     (131)I-Macroaggregated Albumin    0        N  256.0  \n",
      "1                                         (131)I-MAA    0        N  256.0  \n",
      "2      Macroagrégats d'albumine marquée à l'iode 131    3        N    NaN  \n",
      "3                                          MAA-I 131    3        N    NaN  \n",
      "4  Macroagrégats d'albumine humaine marquée à l'i...    3        N    NaN  \n"
     ]
    }
   ],
   "source": [
    "# Imports MRCONSO Table and adds column names\n",
    "file_path = \"/Users/demetreousstillman/Desktop/UCR_Project/Douglas Stuff/umls_tables/MRCONSO.RRF\" # You'll need to chnage your file path\n",
    "column_names = ['CUI', 'LAT', 'TS', 'LUI', 'STT', 'SUI', 'ISPREF', 'AUI', 'SAUI', 'SCUI', 'SDUI', 'SAB', 'TTY', 'CODE', 'STR', 'SRL', 'SUPPRESS', 'CVF']\n",
    "rrf_data = pd.read_csv(file_path, header = None, sep = '|', low_memory = False, names = column_names, index_col = False)\n",
    "print(rrf_data.head())"
   ]
  },
  {
   "cell_type": "code",
   "execution_count": 5,
   "metadata": {},
   "outputs": [
    {
     "name": "stdout",
     "output_type": "stream",
     "text": [
      "Unique SAB values: ['MSH' 'MSHFRE' 'MSHSWE' 'MSHCZE' 'RXNORM' 'MTH' 'SNMI' 'LNC'\n",
      " 'SNOMEDCT_US' 'MSHFIN' 'MSHGER' 'MSHITA' 'MSHJPN' 'MSHPOL' 'MSHPOR'\n",
      " 'MSHRUS' 'SCTSPA' 'MSHSPA' 'SNM' 'CSP' 'PSY' 'CHV' 'RCD' 'LCH_NW'\n",
      " 'MSHSCR' 'MSHNOR' 'AOD' 'NCI' 'NCI_FDA' 'NCI_CTRP' 'PDQ' 'CPM' 'GO' 'LCH'\n",
      " 'MMSL' 'MEDCIN' 'MTHSPL' 'NDDF' 'ATC' 'NCI_NCI-GLOSS' 'NCI_DTP' 'USPMG'\n",
      " 'USP' 'GS' 'VANDF' 'NCI_DCP' 'NCI_caDSR' 'DRUGBANK' 'MEDLINEPLUS'\n",
      " 'NCI_CRCH' 'MSHDUT' 'MSHLAV' 'NCI_CDISC-GLOSS' 'NCI_CareLex' 'CST' 'UWDA'\n",
      " 'FMA' 'HL7V2.5' 'OMIM' 'MDRCZE' 'ICD10DUT' 'ICPC2ICD10DUT' 'MDRDUT'\n",
      " 'ICPC2ICD10ENG' 'ICD10' 'ICD10AM' 'MDR' 'RCDSY' 'ICD10CM' 'HPO' 'WHO'\n",
      " 'CCPSS' 'MDRFRE' 'WHOFRE' 'DMDICD10' 'MDRGER' 'MDRHUN' 'MDRITA' 'MDRJPN'\n",
      " 'KCD5' 'MDRKOR' 'WHOPOR' 'MDRBPO' 'MDRPOR' 'MDRRUS' 'MDRSPA' 'COSTAR'\n",
      " 'NOC' 'MTHICD9' 'ICPC2P' 'NANDA-I' 'DXP' 'WHOGER' 'WHOSPA' 'ICPCBAQ'\n",
      " 'ICPCDAN' 'ICPCDUT' 'ICPC2EDUT' 'SNOMEDCT_VET' 'NCI_NICHD' 'NCI_CTCAE'\n",
      " 'ICPC2EENG' 'ICPC' 'QMR' 'ICPCFIN' 'ICPCFRE' 'ICPCGER' 'ICPCHUN'\n",
      " 'ICPCITA' 'ICPCNOR' 'ICPCPOR' 'ICPCSPA' 'ICPCSWE' 'RCDAE' 'CCS'\n",
      " 'NCI_ACC-AHA' 'ICNP' 'ICD9CM' 'BI' 'MEDLINEPLUS_SPA' 'NCI_CDISC' 'NEU'\n",
      " 'NCBI' 'NCI_CELLOSAURUS' 'ICPCHEB' 'NCI_GAIA' 'NCI_GDC' 'PCDS' 'MED-RT'\n",
      " 'HL7V3.0' 'UMD' 'NCI_PCDC' 'NCI_CBDD' 'RAM' 'SPN' 'AIR' 'CCC' 'ICD10AMAE'\n",
      " 'ICD10AE' 'MTHMST' 'MTHMSTFRE' 'MTHMSTITA' 'NCI_CTEP-SDC' 'DMDUMD'\n",
      " 'DSM-5' 'NIC' 'ALT' 'NCI_EDQM-HC' 'RCDSA' 'ICF' 'ICF-CY' 'NCI_CTDC'\n",
      " 'CCSR_ICD10PCS' 'NCI_GENC' 'NCI_BRIDG_3_0_3' 'NCI_BRIDG_5_3' 'NCI_INC'\n",
      " 'OMS' 'CPT' 'JABL' 'NUCCHCPT' 'NCI_CDC' 'CDCREC' 'HCPT' 'CPTSP'\n",
      " 'CCSR_ICD10CM' 'MTHICPC2EAE' 'CDT' 'HCPCS' 'PNDS' 'TKMT' 'NCI_CCPS' 'CVX'\n",
      " 'NCI_ICDC' 'ICD10PCS' 'NCI_NCPDP' 'NCI_DICOM' 'MMX' 'MCM' 'NCI_KEGG'\n",
      " 'NCI_UCUM' 'MTHICPC2ICD10AE' 'HGNC' 'NCI_BioC' 'LNC-ZH-CN' 'LNC-NL-NL'\n",
      " 'LNC-IT-IT' 'LNC-PT-BR' 'LNC-ES-AR' 'LNC-ES-MX' 'HCDT' 'MTHCMSFRF' 'AOT'\n",
      " 'ULT' 'NCI_NCI-HGNC' 'SOP' 'NCI_NCI-HL7' 'NCI_JAX' 'DDB' 'SRC'\n",
      " 'NCI_PI-RADS' 'PPAC' 'MVX' 'LNC-ET-EE' 'LNC-FR-CA' 'LNC-FR-BE'\n",
      " 'LNC-FR-FR' 'LNC-RU-RU' 'LNC-ES-ES' 'LNC-TR-TR' 'NCI_ICH' 'LNC-DE-AT'\n",
      " 'LNC-KO-KR' 'LNC-DE-DE' 'LNC-PL-PL' 'LNC-EL-GR' 'NCI_CTCAE_3' 'NCI_PID'\n",
      " 'NCI_CTCAE_5' 'NCI_BRIDG' 'NCI_RENI' 'NCI_ZFin']\n",
      "Data type of the column: object\n"
     ]
    }
   ],
   "source": [
    "# Print unique values in the 'SAB' column to check available source abbreviations\n",
    "print(\"Unique SAB values:\", rrf_data['SAB'].unique())\n",
    "#print(\"Data type of the column:\", rrf_data['STR'].dtype)"
   ]
  },
  {
   "cell_type": "code",
   "execution_count": 8,
   "metadata": {},
   "outputs": [
    {
     "name": "stdout",
     "output_type": "stream",
     "text": [
      "        CUI  LAT TS       LUI  STT       SUI ISPREF        AUI  SAUI SCUI  \\\n",
      "0  C0000727  ENG  P  L0000727  VCW  S0584932      N   A0639292   NaN  NaN   \n",
      "1  C0000727  ENG  P  L0000727  VCW  S0584932      N  A17803269   NaN  NaN   \n",
      "2  C0000727  ENG  P  L0000727  VCW  S0584932      N  A20117915   NaN  NaN   \n",
      "3  C0000727  ENG  P  L0000727  VCW  S0584932      N  A25741630   NaN  NaN   \n",
      "4  C0000727  ENG  P  L0000727  VCW  S0584932      N  A33193765   NaN  NaN   \n",
      "\n",
      "         SDUI      SAB  TTY        CODE            STR  SRL SUPPRESS    CVF  \n",
      "0    10000647      MDR   PT    10000647  Acute abdomen    3        N  256.0  \n",
      "1       R10.0  ICD10CM   PT       R10.0  Acute abdomen    4        N  256.0  \n",
      "2       R10.0  ICD10CM   AB       R10.0  Acute abdomen    4        Y  256.0  \n",
      "3    10000647      MDR  LLT    10000647  Acute abdomen    3        N  256.0  \n",
      "4  HP:0033400      HPO   PT  HP:0033400  Acute abdomen    0        N  256.0  \n"
     ]
    }
   ],
   "source": [
    "# Filter rows where SAB indicates disease-related entries\n",
    "disease_sources = ['ICD10CM', 'ICD9CM', 'MDR', 'CMT', 'HPO']\n",
    "#disease_sources = ['SNOMEDCT_US', 'ICD10CM', 'ICD9CM', 'MEDCIN', 'NCI', 'MDR', 'OMIM', 'RCD', 'CMT', 'HPO']\n",
    "disease_df = rrf_data[rrf_data['SAB'].isin(disease_sources)]\n",
    "disease_df.reset_index(drop=True, inplace=True)\n",
    "print(disease_df.head())"
   ]
  },
  {
   "cell_type": "code",
   "execution_count": 17,
   "metadata": {},
   "outputs": [
    {
     "name": "stdout",
     "output_type": "stream",
     "text": [
      "                                     DISEASES\n",
      "0                               Acute abdomen\n",
      "1                    Syndrome abdominal acute\n",
      "2                    Abdominal syndrome acute\n",
      "3                        Acute abdominal pain\n",
      "4                            Abdominal cramps\n",
      "...                                       ...\n",
      "305344                       Dorsal hirsutism\n",
      "305345  Underimmunization for COVID-19 status\n",
      "305346              Unvaccinated for COVID-19\n",
      "305347      Partially vaccinated for COVID-19\n",
      "305348         Other underimmunization status\n",
      "\n",
      "[305349 rows x 1 columns]\n"
     ]
    }
   ],
   "source": [
    "columns_to_keep = ['STR']\n",
    "disease_df = disease_df[columns_to_keep]\n",
    "\n",
    "# Keep only unique values in the 'STR' column\n",
    "unique_values = disease_df['STR'].unique()\n",
    "\n",
    "# Create a new dataframe with the unique values\n",
    "unique_df = pd.DataFrame({'DISEASES': unique_values})\n",
    "\n",
    "\n",
    "print(unique_df.head())"
   ]
  },
  {
   "cell_type": "code",
   "execution_count": 23,
   "metadata": {},
   "outputs": [
    {
     "name": "stdout",
     "output_type": "stream",
     "text": [
      "Acquired immune deficiency syndrome\n"
     ]
    }
   ],
   "source": [
    "#turn df into dict\n",
    "disease_dict = unique_df['DISEASES'].to_dict()\n",
    "\n",
    "#print(disease_dict)"
   ]
  },
  {
   "cell_type": "code",
   "execution_count": 24,
   "metadata": {},
   "outputs": [
    {
     "name": "stdout",
     "output_type": "stream",
     "text": [
      "Element at indx 0: Acute abdomen \n",
      "Element at indx 1: Syndrome abdominal acute \n",
      "Element at indx 2: Abdominal syndrome acute \n",
      "Element at indx 3: Acute abdominal pain \n",
      "Element at indx 4: Abdominal cramps \n",
      "Element at indx 5: Abdominal cramp \n",
      "Element at indx 6: Cramp abdominal \n",
      "Element at indx 7: Abdominal crampy pains \n",
      "Element at indx 8: Griping abdominal \n",
      "Element at indx 9: Griping abdomen \n"
     ]
    }
   ],
   "source": [
    "#Print first 10 elements\n",
    "for index, value in disease_dict.items():\n",
    "    print(f\"Element at indx {index}: {value} \")\n",
    "\n",
    "    if index >= 9:\n",
    "        break"
   ]
  },
  {
   "cell_type": "code",
   "execution_count": 25,
   "metadata": {},
   "outputs": [],
   "source": [
    "#Function to get disease name by index\n",
    "def get_disease_name(index):\n",
    "    return disease_dict[index]"
   ]
  },
  {
   "cell_type": "code",
   "execution_count": 26,
   "metadata": {},
   "outputs": [
    {
     "data": {
      "text/plain": [
       "'Follicular mucinosis'"
      ]
     },
     "execution_count": 26,
     "metadata": {},
     "output_type": "execute_result"
    }
   ],
   "source": [
    "get_disease_name(500)"
   ]
  }
 ],
 "metadata": {
  "kernelspec": {
   "display_name": "Python 3",
   "language": "python",
   "name": "python3"
  },
  "language_info": {
   "codemirror_mode": {
    "name": "ipython",
    "version": 3
   },
   "file_extension": ".py",
   "mimetype": "text/x-python",
   "name": "python",
   "nbconvert_exporter": "python",
   "pygments_lexer": "ipython3",
   "version": "3.11.1"
  },
  "orig_nbformat": 4
 },
 "nbformat": 4,
 "nbformat_minor": 2
}
